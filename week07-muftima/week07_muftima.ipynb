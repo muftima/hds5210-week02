{
 "cells": [
  {
   "cell_type": "code",
   "execution_count": 1,
   "metadata": {
    "collapsed": true
   },
   "outputs": [],
   "source": [
    "#1\n",
    "import csv\n",
    "def line_count(file):\n",
    "    \"\"\" (str) -> int\n",
    "    Counts the total number of lines in file and returns that number.\n",
    "    \"\"\"\n",
    "    with open(file)as  data:\n",
    "        reader=csv.reader(data)\n",
    "        count=0\n",
    "        for row in reader:\n",
    "            count=count+1\n",
    "        print(count)    "
   ]
  },
  {
   "cell_type": "code",
   "execution_count": 2,
   "metadata": {
    "collapsed": false
   },
   "outputs": [
    {
     "name": "stdout",
     "output_type": "stream",
     "text": [
      "53\n"
     ]
    }
   ],
   "source": [
    "line_count('/week07/preexisting.csv')"
   ]
  },
  {
   "cell_type": "code",
   "execution_count": 8,
   "metadata": {
    "collapsed": true
   },
   "outputs": [],
   "source": [
    "#2\n",
    "import csv\n",
    "def facet(file,column):\n",
    "    \"\"\"(str,int) ->array\n",
    "    Get a list of distinct values from the specified column in the input file\"\"\"\n",
    "    with open (file) as data :\n",
    "        reader=reader.csv(data)\n",
    "        for row in reader:\n",
    "             print(row[column-1])\n"
   ]
  },
  {
   "cell_type": "code",
   "execution_count": 4,
   "metadata": {
    "collapsed": false
   },
   "outputs": [
    {
     "name": "stdout",
     "output_type": "stream",
     "text": [
      "[['Alabama', 506.3888888888889], ['Alaska', 40.05555555555556], ['Arizona', 2923.5], ['Arkansas', 570.0], ['California', 9277.388888888889], ['Colorado', 1018.1944444444445], ['Connecticut', 358.9166666666667], ['Delaware', 200.25], ['District of Columbia', 56.861111111111114], ['Florida', 6386.166666666667], ['Georgia', 2250.3888888888887], ['Hawaii', 105.77777777777777], ['Idaho', 466.27777777777777], ['Illinois', 2357.8055555555557], ['Indiana', 1157.5], ['Iowa', 270.3888888888889], ['Kansas', 352.75], ['Kentucky', 813.9166666666666], ['Louisiana', 922.8888888888889], ['Maine', 38.77777777777778], ['Maryland', 1005.3611111111111], ['Massachusetts*', 11.694444444444445], ['Michigan', 1313.6944444444443], ['Minnesota', 482.6388888888889], ['Mississippi', 242.27777777777777], ['Missouri', 1374.611111111111], ['Montana', 276.44444444444446], ['Nebraska', 262.8888888888889], ['Nevada', 835.3611111111111], ['New Hampshire', 414.8611111111111], ['New Jersey', 964.5277777777778], ['New Mexico', 1022.2222222222222], ['New York', 3279.1111111111113], ['North Carolina', 3478.1388888888887], ['North Dakota', 57.5], ['Ohio', 2447.5833333333335], ['Oklahoma', 697.5555555555555], ['Oregon', 1181.1666666666667], ['Pennsylvania', 5073.138888888889], ['Rhode Island', 135.27777777777777], ['South Carolina', 1323.888888888889], ['South Dakota', 148.33333333333334], ['Tennessee', 1213.111111111111], ['Texas', 5835.444444444444], ['Utah', 766.6111111111111], ['Vermont*', 0.9166666666666666], ['Virginia', 1740.4166666666667], ['Washington', 658.3611111111111], ['West Virginia', 116.41666666666667], ['Wisconsin', 1480.6944444444443], ['Wyoming', 192.83333333333334], ['Total', 68106.69444444444]]\n"
     ]
    }
   ],
   "source": [
    "#3\n",
    "import csv\n",
    "avgList=[]\n",
    "with open('/week07/preexisting.csv') as myFile:\n",
    "    reader = csv.reader(myFile)\n",
    "    for row in reader:\n",
    "        #print(row)\n",
    "        None \n",
    "        break \n",
    "    for row in reader:\n",
    "        for i in range(2,len(row)):\n",
    "            row[i]=int(row[i])\n",
    "        avgList.append([row[0], sum(row[2:len(row)])/len(row[2:len(row)])])\n",
    "print(avgList)\n"
   ]
  },
  {
   "cell_type": "code",
   "execution_count": 10,
   "metadata": {
    "collapsed": false
   },
   "outputs": [
    {
     "ename": "UnboundLocalError",
     "evalue": "local variable 'reader' referenced before assignment",
     "output_type": "error",
     "traceback": [
      "\u001b[0;31m---------------------------------------------------------------------------\u001b[0m",
      "\u001b[0;31mUnboundLocalError\u001b[0m                         Traceback (most recent call last)",
      "\u001b[0;32m<ipython-input-10-515802582082>\u001b[0m in \u001b[0;36m<module>\u001b[0;34m()\u001b[0m\n\u001b[0;32m----> 1\u001b[0;31m \u001b[0mfacet\u001b[0m\u001b[0;34m(\u001b[0m\u001b[0;34m'/week07/preexisting.csv'\u001b[0m\u001b[0;34m,\u001b[0m\u001b[0;36m1\u001b[0m\u001b[0;34m)\u001b[0m\u001b[0;34m\u001b[0m\u001b[0m\n\u001b[0m",
      "\u001b[0;32m<ipython-input-8-69267f2f34c0>\u001b[0m in \u001b[0;36mfacet\u001b[0;34m(file, column)\u001b[0m\n\u001b[1;32m      5\u001b[0m     Get a list of distinct values from the specified column in the input file\"\"\"\n\u001b[1;32m      6\u001b[0m     \u001b[0;32mwith\u001b[0m \u001b[0mopen\u001b[0m \u001b[0;34m(\u001b[0m\u001b[0mfile\u001b[0m\u001b[0;34m)\u001b[0m \u001b[0;32mas\u001b[0m \u001b[0mdata\u001b[0m \u001b[0;34m:\u001b[0m\u001b[0;34m\u001b[0m\u001b[0m\n\u001b[0;32m----> 7\u001b[0;31m         \u001b[0mreader\u001b[0m\u001b[0;34m=\u001b[0m\u001b[0mreader\u001b[0m\u001b[0;34m.\u001b[0m\u001b[0mcsv\u001b[0m\u001b[0;34m(\u001b[0m\u001b[0mdata\u001b[0m\u001b[0;34m)\u001b[0m\u001b[0;34m\u001b[0m\u001b[0m\n\u001b[0m\u001b[1;32m      8\u001b[0m         \u001b[0;32mfor\u001b[0m \u001b[0mrow\u001b[0m \u001b[0;32min\u001b[0m \u001b[0mreader\u001b[0m\u001b[0;34m:\u001b[0m\u001b[0;34m\u001b[0m\u001b[0m\n\u001b[1;32m      9\u001b[0m              \u001b[0mprint\u001b[0m\u001b[0;34m(\u001b[0m\u001b[0mrow\u001b[0m\u001b[0;34m[\u001b[0m\u001b[0mcolumn\u001b[0m\u001b[0;34m-\u001b[0m\u001b[0;36m1\u001b[0m\u001b[0;34m]\u001b[0m\u001b[0;34m)\u001b[0m\u001b[0;34m\u001b[0m\u001b[0m\n",
      "\u001b[0;31mUnboundLocalError\u001b[0m: local variable 'reader' referenced before assignment"
     ]
    }
   ],
   "source": [
    "facet('/week07/preexisting.csv',1)"
   ]
  },
  {
   "cell_type": "code",
   "execution_count": 5,
   "metadata": {
    "collapsed": true
   },
   "outputs": [],
   "source": [
    "with open('avgPreexisting.csv','w') as output:\n",
    "    for items in avgList:\n",
    "        out = \"{:s}|{:f}\\n\".format(items[0],items[1])\n",
    "        output.write(out)"
   ]
  },
  {
   "cell_type": "code",
   "execution_count": 6,
   "metadata": {
    "collapsed": false
   },
   "outputs": [
    {
     "name": "stdout",
     "output_type": "stream",
     "text": [
      "Alabama|506.388889\n",
      "Alaska|40.055556\n",
      "Arizona|2923.500000\n",
      "Arkansas|570.000000\n",
      "California|9277.388889\n",
      "Colorado|1018.194444\n",
      "Connecticut|358.916667\n",
      "Delaware|200.250000\n",
      "District of Columbia|56.861111\n",
      "Florida|6386.166667\n",
      "Georgia|2250.388889\n",
      "Hawaii|105.777778\n",
      "Idaho|466.277778\n",
      "Illinois|2357.805556\n",
      "Indiana|1157.500000\n",
      "Iowa|270.388889\n",
      "Kansas|352.750000\n",
      "Kentucky|813.916667\n",
      "Louisiana|922.888889\n",
      "Maine|38.777778\n",
      "Maryland|1005.361111\n",
      "Massachusetts*|11.694444\n",
      "Michigan|1313.694444\n",
      "Minnesota|482.638889\n",
      "Mississippi|242.277778\n",
      "Missouri|1374.611111\n",
      "Montana|276.444444\n",
      "Nebraska|262.888889\n",
      "Nevada|835.361111\n",
      "New Hampshire|414.861111\n",
      "New Jersey|964.527778\n",
      "New Mexico|1022.222222\n",
      "New York|3279.111111\n",
      "North Carolina|3478.138889\n",
      "North Dakota|57.500000\n",
      "Ohio|2447.583333\n",
      "Oklahoma|697.555556\n",
      "Oregon|1181.166667\n",
      "Pennsylvania|5073.138889\n",
      "Rhode Island|135.277778\n",
      "South Carolina|1323.888889\n",
      "South Dakota|148.333333\n",
      "Tennessee|1213.111111\n",
      "Texas|5835.444444\n",
      "Utah|766.611111\n",
      "Vermont*|0.916667\n",
      "Virginia|1740.416667\n",
      "Washington|658.361111\n",
      "West Virginia|116.416667\n",
      "Wisconsin|1480.694444\n",
      "Wyoming|192.833333\n",
      "Total|68106.694444\n"
     ]
    }
   ],
   "source": [
    "%%bash\n",
    "cat avgPreexisting.csv"
   ]
  },
  {
   "cell_type": "code",
   "execution_count": null,
   "metadata": {
    "collapsed": true
   },
   "outputs": [],
   "source": [
    "%%bash\n",
    "cd ~/notebooks/hds5210-week07/\n",
    "git add week07-muftima.ipynb\n",
    "git commit -a -m \"Adding homework\"\n",
    "git push"
   ]
  },
  {
   "cell_type": "code",
   "execution_count": null,
   "metadata": {
    "collapsed": true
   },
   "outputs": [],
   "source": []
  },
  {
   "cell_type": "code",
   "execution_count": null,
   "metadata": {
    "collapsed": true
   },
   "outputs": [],
   "source": []
  },
  {
   "cell_type": "code",
   "execution_count": null,
   "metadata": {
    "collapsed": true
   },
   "outputs": [],
   "source": []
  }
 ],
 "metadata": {
  "kernelspec": {
   "display_name": "Python 3",
   "language": "python",
   "name": "python3"
  },
  "language_info": {
   "codemirror_mode": {
    "name": "ipython",
    "version": 3
   },
   "file_extension": ".py",
   "mimetype": "text/x-python",
   "name": "python",
   "nbconvert_exporter": "python",
   "pygments_lexer": "ipython3",
   "version": "3.4.3"
  }
 },
 "nbformat": 4,
 "nbformat_minor": 0
}
