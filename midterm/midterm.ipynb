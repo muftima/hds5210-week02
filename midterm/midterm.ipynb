{
 "cells": [
  {
   "cell_type": "markdown",
   "metadata": {},
   "source": [
    "_HDS5210 Programming for Data Scientists_\n",
    "\n",
    "# MidTerm Exam\n",
    "\n",
    "You will have from 10/7/2016 through 10/19/2016 to work on this mid-term.  You're welcome to use your text, all previous class materials and notes, the Internet, and the Python documentation to help you.  Please try to be clear in writing your code."
   ]
  },
  {
   "cell_type": "markdown",
   "metadata": {},
   "source": [
    "## General Description\n",
    "\n",
    "The mid-term is one extended problem that needs to be solved in a specific way, but the code you use will be broken down into a set of modules that could be reused in similar but not identical problems.  The description will lay out the modules that you need to create and what each module should include.  The final code that will be executed is provided for you, so that you can test your code and make sure it's producing the expected outputs.\n",
    "\n",
    "This problem involves combining and reshaping data from two different data sources:\n",
    "* The CMS file on pre-existing condition plans from Assignment 7 - https://data.cms.gov/Health/Monthly-Pre-Existing-Condition-Insurance-Plan-Enro/dpuq-z7nj\n",
    "* The State Census estimates from 2010 to 2015 - https://www.census.gov/popest/data/national/totals/2015/files/NST-EST2015-alldata.csv\n",
    "\n",
    "Both of these files have already been downloaded and are available in the `/midterm/` folder on the Jupyter server."
   ]
  },
  {
   "cell_type": "code",
   "execution_count": null,
   "metadata": {
    "collapsed": true
   },
   "outputs": [],
   "source": []
  },
  {
   "cell_type": "markdown",
   "metadata": {},
   "source": [
    "--- \n",
    "\n",
    "# Part 1 - CSV to lists\n",
    "\n",
    "One of the things we might want to do a lot of is take a CSV file and turn it into a list of lists, which looks like a rectangular spreadsheet.  For the first part of the midterm, create a module called `csvlist` with a class in it called `CsvList`.\n",
    "\n",
    "The CsvList class will need the following methods:\n",
    "* A constructor (aka __init__) that take a single parameter, which is the file name\n",
    "* A way to retreive a list of the column names that were read from the first line of the file\n",
    "* A way to retrieve the actual data rows themselves, which should be available as a list of lists\n",
    "\n",
    "In parsing data from the file, our CsvList class can assume that the file will always have a header.  The code below should be able to work if your module and class are working."
   ]
  },
  {
   "cell_type": "code",
   "execution_count": 1,
   "metadata": {
    "collapsed": false
   },
   "outputs": [
    {
     "name": "stdout",
     "output_type": "stream",
     "text": [
      "importing Jupyter notebook from csvlist.ipynb\n",
      "['State', 'Federally/State Administered', 'Enrolled Through January 31, 2014  ', 'Enrolled Through December 31, 2013', 'Enrolled Through November 30, 2013', 'Enrolled Through October 31, 2013', 'Enrolled Through September 30, 2013', 'Enrolled Through August 31, 2013', 'Enrolled Through July 31, 2013', 'Enrolled Through June 30, 2013', 'Enrolled Through May 31, 2013', 'Enrolled Through April 30, 2013', 'Enrolled Through Mar. 31, 2013', 'Enrolled Through Feb. 28, 2013', 'Enrolled Through Jan. 31, 2013', 'Enrolled Through Dec. 31, 2012', 'Enrolled Through Nov. 30, 2012', 'Enrolled Through October 31, 2012', 'Enrolled Through September 30, 2012', 'Enrolled Through August 31, 2012', 'Enrolled Through July 31, 2012', 'Enrolled Through June 30, 2012', 'Enrolled Through May 31, 2012', 'Enrolled Through April 30, 2012', 'Enrolled Through March 31, 2012', 'Enrolled Through February 29, 2012', 'Enrolled Through December 31, 2011', 'Enrolled Through November 30, 2011', 'Enrolled Through October 31, 2011', 'Enrolled Through September 30, 2011', 'Enrolled Through August 31, 2011', 'Enrolled Through July 31, 2011', 'Enrolled Through June 30, 2011', 'Enrolled Through May 31, 2011', 'Enrolled Through April 30, 2011', 'Enrolled Through March 31, 2011', 'Enrolled Through February 1, 2011', 'Enrolled Through November 1, 2011']\n",
      "[['Alabama', 'Federal', '115', '123', '594', '639', '672', '711', '736', '766', '795', '820', '821', '1006', '972', '911', '838', '794', '735', '679', '635', '590', '559', '524', '466', '429', '389', '340', '296', '275', '230', '182', '138', '118', '103', '91', '77', '61'], ['Alaska', 'State', '5', '25', '32', '34', '34', '36', '36', '38', '43', '46', '51', '52', '47', '46', '45', '47', '42', '45', '43', '43', '45', '47', '45', '42', '42', '44', '45', '48', '45', '43', '47', '38', '35', '34', '32', '20'], ['Arizona', 'Federal', '1373', '1392', '3857', '4021', '4154', '4293', '4389', '4541', '4653', '4779', '4779', '5254', '5082', '4861', '4628', '4402', '4149', '3898', '3655', '3480', '3282', '3065', '2748', '2448', '2139', '1783', '1533', '1391', '1178', '967', '759', '639', '573', '457', '374', '270'], ['Arkansas', 'Transitioned from State to Federally-administered program 7/1/2013', '126', '129', '648', '688', '716', '750', '767', '736', '871', '878', '895', '921', '883', '868', '855', '839', '798', '767', '725', '695', '648', '624', '574', '554', '484', '404', '367', '333', '310', '291', '273', '254', '278', '226', '198', '147']]\n"
     ]
    }
   ],
   "source": [
    "import jupyterimporter\n",
    "from csvlist import CsvList\n",
    "\n",
    "f = CsvList('/midterm/preexisting.csv')\n",
    "print(f.header)      # Returns a list of the column names\n",
    "print(f.data[0:4])    # Returns the list of lists data"
   ]
  },
  {
   "cell_type": "markdown",
   "metadata": {},
   "source": [
    "---\n",
    "\n",
    "# Part 2 - \"Pivoting\" data\n",
    "\n",
    "You'll notice that CMS data file includes several columns, one for each different timeframe.  It's not atypical to recieve data files where time is measure horizontally across the row, but you may need to pivot that so that have one row per time entry.  As a simplified example, below is a sample of input data that has a separate column for each quarter in 2015:\n",
    "```\n",
    "Last,First,2015Q1,2015Q2,2015Q3,2015Q4\n",
    "Boal,Paul,10,9,10,8\n",
    "Westhus,Eric,9,10,10,9\n",
    "```\n",
    "\n",
    "When we say we want to _pivot_ that data, what mean is that we want one row for each data value.  To be specific, we say that we're going to pivot columns 2 throuh the end (assuming the first column is 0).  The output of doing this looks like this:\n",
    "```\n",
    "Last,First,Time,Value\n",
    "Boal,Paul,2015Q1,10\n",
    "Boal,Paul,2015Q2,9\n",
    "Boal,Paul,2015Q3,10\n",
    "Boal,Paul,2015Q4,8\n",
    "Westhus,Eric,2015Q1,9\n",
    "Westhus,Eric,2015Q2,10\n",
    "Westhus,Eric,2015Q3,10\n",
    "Westhus,Eric,2015Q4,9\n",
    "```\n",
    "\n",
    "So, create a new module called `pivot` with one function in it called `pivot_columns()`.  This function should take a list of lists as well as a list of column numbers that should be pivoted as shown in the example below.  You can assume the file is a CSV. The return value should be a list of lists.\n",
    "\n",
    "\n"
   ]
  },
  {
   "cell_type": "code",
   "execution_count": 2,
   "metadata": {
    "collapsed": false
   },
   "outputs": [
    {
     "name": "stdout",
     "output_type": "stream",
     "text": [
      "importing Jupyter notebook from pivot.ipynb\n"
     ]
    },
    {
     "data": {
      "text/plain": [
       "[['Last', 'First', 'Column', 'Value'],\n",
       " ['Boal', 'Paul', '2015Q1', 10],\n",
       " ['Boal', 'Paul', '2015Q2', 9],\n",
       " ['Boal', 'Paul', '2015Q3', 10],\n",
       " ['Boal', 'Paul', '2015Q4', 8],\n",
       " ['Westhus', 'Eric', '2015Q1', 9],\n",
       " ['Westhus', 'Eric', '2015Q2', 10],\n",
       " ['Westhus', 'Eric', '2015Q3', 10],\n",
       " ['Westhus', 'Eric', '2015Q4', 9]]"
      ]
     },
     "execution_count": 2,
     "metadata": {},
     "output_type": "execute_result"
    }
   ],
   "source": [
    "import jupyterimporter\n",
    "from pivot import pivot_columns\n",
    "\n",
    "test = [['Last','First','2015Q1','2015Q2','2015Q3','2015Q4'],\n",
    "        ['Boal','Paul',10,9,10,8],\n",
    "        ['Westhus','Eric',9,10,10,9]]\n",
    "\n",
    "out = pivot_columns(test,list(range(2,5)))\n",
    "out"
   ]
  },
  {
   "cell_type": "markdown",
   "metadata": {},
   "source": [
    "---\n",
    "\n",
    "# Part 3 - \"Joining\" data together\n",
    "\n",
    "The second task is to create another module called `joiner` that will match updata from one list and line it up with data in another list based on some matching criteria and which fields should be retained from each list.  For this example, the comparisons you do should not care about case sensitivity.  Your function signature should be:\n",
    "```\n",
    "joinlists(list1, list2, joinfields1, joinfields2, outputfields1, outputfields2)\n",
    "```\n",
    "\n",
    "* list1 = This is the main list that we want to match up data from list2 against.\n",
    "* list2 = This is the list where we're going to get some extra information to attach to list1\n",
    "* joinfield1 = Which fields from list1 should be used in the join.\n",
    "* joinfield2 = Which fields from list2 should be used to try to match the corresponding value in list1.\n",
    "* outputfields1 = The fields from list1 to include in the output\n",
    "* outputfields2 = The fields from list2 to incldue in the output\n",
    "\n",
    "Below is an example of what this should do.\n"
   ]
  },
  {
   "cell_type": "markdown",
   "metadata": {},
   "source": [
    "list1:\n",
    "```\n",
    "Last,First,Time,Value\n",
    "Boal,Paul,2015Q1,10\n",
    "Boal,Paul,2015Q2,9\n",
    "```\n",
    "\n",
    "list2:\n",
    "```\n",
    "Time,Census\n",
    "2015q1,932\n",
    "2015q2,943\n",
    "```\n",
    "\n",
    "Sample code:\n",
    "```\n",
    "joinlists(list1, list2, [2], [0], [1,2,3,4], [1])\n",
    "```\n",
    "\n",
    "Should output:\n",
    "```\n",
    "Last,First,Time,Value,Census\n",
    "Boal,Paul,2015Q1,10,932\n",
    "Boal,Paul,2015Q2,9,943\n",
    "```\n",
    "\n",
    "*Note the arrays are displayed as string lists just for my convenience.\n",
    "\n",
    "*For those of you familiar with SQL joins, this is effectively a style of inner join."
   ]
  },
  {
   "cell_type": "code",
   "execution_count": 3,
   "metadata": {
    "collapsed": false
   },
   "outputs": [
    {
     "name": "stdout",
     "output_type": "stream",
     "text": [
      "importing Jupyter notebook from joiner.ipynb\n"
     ]
    },
    {
     "data": {
      "text/plain": [
       "[['Last', 'First', 'Time', 'Value', 'Census'],\n",
       " ['Boal', 'Paul', '2015Q1', 10, 932],\n",
       " ['Boal', 'Paul', '2015Q2', 9, 943]]"
      ]
     },
     "execution_count": 3,
     "metadata": {},
     "output_type": "execute_result"
    }
   ],
   "source": [
    "import jupyterimporter\n",
    "from joiner import join_lists\n",
    "\n",
    "list1 = [['Last','First','Time','Value'],\n",
    "         ['Boal','Paul','2015Q1',10],\n",
    "         ['Boal','Paul','2015Q2',9]]\n",
    "\n",
    "list2 = [['Time','Census'],\n",
    "         ['2015q1',932],\n",
    "         ['2015q2',943]]\n",
    "\n",
    "join_lists(list1, list2, [2], [0], [0,1,2,3], [1])\n"
   ]
  },
  {
   "cell_type": "markdown",
   "metadata": {},
   "source": [
    "---\n",
    "\n",
    "# Part 4 - Final Code to Test with\n",
    "\n",
    "The code below should execute and produce the results below.  The cleanup code between the comments below may be a bit cryptic.  Here, you have the option of either (A) writing your own version of the code to do that cleanup process or (B) explaining the code I've written line by line with sufficient detail to demonstrate your understanding.\n"
   ]
  },
  {
   "cell_type": "code",
   "execution_count": 4,
   "metadata": {
    "collapsed": false
   },
   "outputs": [],
   "source": [
    "import jupyterimporter\n",
    "from csvlist import CsvList\n",
    "from pivot import pivot_columns\n",
    "from joiner import join_lists\n",
    "\n",
    "preexisting = CsvList('/midterm/preexisting.csv')\n",
    "census = CsvList('/midterm/census.csv')\n",
    "\n",
    "### CLEANUP CODE STARTS\n",
    "pre = pivot_columns([preexisting.header] + preexisting.data, list(range(2,37)))\n",
    "cen = pivot_columns([census.header] + census.data, list(range(5,12)))\n",
    "\n",
    "pre_clean = [pre[0] + ['Year']] + [(r + [r[2].split(',')[1].strip()]) for r in pre[1:]]\n",
    "cen_clean = [cen[0] + ['Year']] + [(r + [r[5][-4:]]) for r in cen[1:]]\n",
    "### CLEANUP CODE ENDS\n",
    "\n",
    "\n",
    "out = join_lists(pre_clean, cen_clean, [0,4], [4,7], [0,2,3], [6])"
   ]
  },
  {
   "cell_type": "code",
   "execution_count": 5,
   "metadata": {
    "collapsed": false
   },
   "outputs": [
    {
     "data": {
      "text/plain": [
       "[['State', 'Column', 'Value', 'Value'],\n",
       " ['Alabama', 'Enrolled Through January 31, 2014  ', '115', '4846411'],\n",
       " ['Alabama', 'Enrolled Through December 31, 2013', '123', '4830533'],\n",
       " ['Alabama', 'Enrolled Through November 30, 2013', '594', '4830533'],\n",
       " ['Alabama', 'Enrolled Through October 31, 2013', '639', '4830533'],\n",
       " ['Alabama', 'Enrolled Through September 30, 2013', '672', '4830533'],\n",
       " ['Alabama', 'Enrolled Through August 31, 2013', '711', '4830533'],\n",
       " ['Alabama', 'Enrolled Through July 31, 2013', '736', '4830533'],\n",
       " ['Alabama', 'Enrolled Through June 30, 2013', '766', '4830533'],\n",
       " ['Alabama', 'Enrolled Through May 31, 2013', '795', '4830533']]"
      ]
     },
     "execution_count": 5,
     "metadata": {},
     "output_type": "execute_result"
    }
   ],
   "source": [
    "out[0:10]"
   ]
  },
  {
   "cell_type": "markdown",
   "metadata": {},
   "source": [
    "---\n",
    "\n",
    "# Submitting\n",
    "\n",
    "Use the commands below to add, commit, and push you code."
   ]
  },
  {
   "cell_type": "code",
   "execution_count": 6,
   "metadata": {
    "collapsed": false
   },
   "outputs": [
    {
     "name": "stdout",
     "output_type": "stream",
     "text": [
      "[midterm-grading 5ed0db3] Submitting my midterm!!\n",
      " 4 files changed, 140 insertions(+), 27 deletions(-)\n"
     ]
    },
    {
     "name": "stderr",
     "output_type": "stream",
     "text": [
      "fatal: The current branch midterm-grading has no upstream branch.\n",
      "To push the current branch and set the remote as upstream, use\n",
      "\n",
      "    git push --set-upstream origin midterm-grading\n",
      "\n"
     ]
    }
   ],
   "source": [
    "%%bash\n",
    "git add csvlist.ipynb\n",
    "git add joiner.ipynb\n",
    "git add pivot.ipynb\n",
    "git add midterm.ipynb\n",
    "git commit -a -m \"Submitting my midterm!!\"\n",
    "git push"
   ]
  }
 ],
 "metadata": {
  "kernelspec": {
   "display_name": "Python 3",
   "language": "python",
   "name": "python3"
  },
  "language_info": {
   "codemirror_mode": {
    "name": "ipython",
    "version": 3
   },
   "file_extension": ".py",
   "mimetype": "text/x-python",
   "name": "python",
   "nbconvert_exporter": "python",
   "pygments_lexer": "ipython3",
   "version": "3.4.3"
  }
 },
 "nbformat": 4,
 "nbformat_minor": 0
}
