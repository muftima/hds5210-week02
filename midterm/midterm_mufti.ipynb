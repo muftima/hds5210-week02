{
 "cells": [
  {
   "cell_type": "code",
   "execution_count": 4,
   "metadata": {
    "collapsed": false,
    "scrolled": true
   },
   "outputs": [
    {
     "name": "stdout",
     "output_type": "stream",
     "text": [
      "['State', 'Federally/State Administered', 'Enrolled Through January 31, 2014  ', 'Enrolled Through December 31, 2013', 'Enrolled Through November 30, 2013', 'Enrolled Through October 31, 2013', 'Enrolled Through September 30, 2013', 'Enrolled Through August 31, 2013', 'Enrolled Through July 31, 2013', 'Enrolled Through June 30, 2013', 'Enrolled Through May 31, 2013', 'Enrolled Through April 30, 2013', 'Enrolled Through Mar. 31, 2013', 'Enrolled Through Feb. 28, 2013', 'Enrolled Through Jan. 31, 2013', 'Enrolled Through Dec. 31, 2012', 'Enrolled Through Nov. 30, 2012', 'Enrolled Through October 31, 2012', 'Enrolled Through September 30, 2012', 'Enrolled Through August 31, 2012', 'Enrolled Through July 31, 2012', 'Enrolled Through June 30, 2012', 'Enrolled Through May 31, 2012', 'Enrolled Through April 30, 2012', 'Enrolled Through March 31, 2012', 'Enrolled Through February 29, 2012', 'Enrolled Through December 31, 2011', 'Enrolled Through November 30, 2011', 'Enrolled Through October 31, 2011', 'Enrolled Through September 30, 2011', 'Enrolled Through August 31, 2011', 'Enrolled Through July 31, 2011', 'Enrolled Through June 30, 2011', 'Enrolled Through May 31, 2011', 'Enrolled Through April 30, 2011', 'Enrolled Through March 31, 2011', 'Enrolled Through February 1, 2011', 'Enrolled Through November 1, 2011']\n",
      "[['Alabama', 'Federal', '115', '123', '594', '639', '672', '711', '736', '766', '795', '820', '821', '1006', '972', '911', '838', '794', '735', '679', '635', '590', '559', '524', '466', '429', '389', '340', '296', '275', '230', '182', '138', '118', '103', '91', '77', '61'], ['Alaska', 'State', '5', '25', '32', '34', '34', '36', '36', '38', '43', '46', '51', '52', '47', '46', '45', '47', '42', '45', '43', '43', '45', '47', '45', '42', '42', '44', '45', '48', '45', '43', '47', '38', '35', '34', '32', '20'], ['Arizona', 'Federal', '1373', '1392', '3857', '4021', '4154', '4293', '4389', '4541', '4653', '4779', '4779', '5254', '5082', '4861', '4628', '4402', '4149', '3898', '3655', '3480', '3282', '3065', '2748', '2448', '2139', '1783', '1533', '1391', '1178', '967', '759', '639', '573', '457', '374', '270'], ['Arkansas', 'Transitioned from State to Federally-administered program 7/1/2013', '126', '129', '648', '688', '716', '750', '767', '736', '871', '878', '895', '921', '883', '868', '855', '839', '798', '767', '725', '695', '648', '624', '574', '554', '484', '404', '367', '333', '310', '291', '273', '254', '278', '226', '198', '147']]\n"
     ]
    }
   ],
   "source": [
    "import jupyterimporter\n",
    "from csvlist import CsvList\n",
    "\n",
    "f = CsvList('/midterm/preexisting.csv')\n",
    "print(f.header)      # Returns a list of the column names\n",
    "print(f.data[0:4])    # Returns the list of lists data"
   ]
  },
  {
   "cell_type": "code",
   "execution_count": 6,
   "metadata": {
    "collapsed": false
   },
   "outputs": [
    {
     "data": {
      "text/plain": [
       "[['Last', 'First', 'Column', 'Value', '2015Q4'],\n",
       " ['Boal', 'Paul', '2015Q1', 10, 8],\n",
       " ['Boal', 'Paul', '2015Q2', 9, 8],\n",
       " ['Boal', 'Paul', '2015Q3', 10, 8],\n",
       " ['Westhus', 'Eric', '2015Q1', 9, 9],\n",
       " ['Westhus', 'Eric', '2015Q2', 10, 9],\n",
       " ['Westhus', 'Eric', '2015Q3', 10, 9]]"
      ]
     },
     "execution_count": 6,
     "metadata": {},
     "output_type": "execute_result"
    }
   ],
   "source": [
    "import jupyterimporter\n",
    "from pivot import pivot_columns\n",
    "\n",
    "test = [['Last','First','2015Q1','2015Q2','2015Q3','2015Q4'],\n",
    "        ['Boal','Paul',10,9,10,8],\n",
    "        ['Westhus','Eric',9,10,10,9]]\n",
    "\n",
    "out = pivot_columns(test,list(range(2,5)))\n",
    "out"
   ]
  },
  {
   "cell_type": "code",
   "execution_count": 3,
   "metadata": {
    "collapsed": false
   },
   "outputs": [
    {
     "data": {
      "text/plain": [
       "[['Last', 'First', 'Time', 'Value', 'Census'],\n",
       " ['Boal', 'Paul', '2015Q1', 10, 932],\n",
       " ['Boal', 'Paul', '2015Q2', 9, 943]]"
      ]
     },
     "execution_count": 3,
     "metadata": {},
     "output_type": "execute_result"
    }
   ],
   "source": [
    "import jupyterimporter\n",
    "from joiner import join_lists\n",
    "\n",
    "list1 = [['Last','First','Time','Value'],\n",
    "         ['Boal','Paul','2015Q1',10],\n",
    "         ['Boal','Paul','2015Q2',9]]\n",
    "\n",
    "list2 = [['Time','Census'],\n",
    "         ['2015q1',932],\n",
    "         ['2015q2',943]]\n",
    "\n",
    "join_lists(list1, list2, [2], [0], [0,1,2,3], [1])"
   ]
  },
  {
   "cell_type": "code",
   "execution_count": 1,
   "metadata": {
    "collapsed": false
   },
   "outputs": [
    {
     "name": "stdout",
     "output_type": "stream",
     "text": [
      "importing Jupyter notebook from csvlist.ipynb\n",
      "importing Jupyter notebook from pivot.ipynb\n",
      "importing Jupyter notebook from joiner.ipynb\n"
     ]
    },
    {
     "ename": "IndexError",
     "evalue": "list index out of range",
     "output_type": "error",
     "traceback": [
      "\u001b[0;31m---------------------------------------------------------------------------\u001b[0m",
      "\u001b[0;31mIndexError\u001b[0m                                Traceback (most recent call last)",
      "\u001b[0;32m<ipython-input-1-de60a4cb2316>\u001b[0m in \u001b[0;36m<module>\u001b[0;34m()\u001b[0m\n\u001b[1;32m     15\u001b[0m \u001b[0;34m\u001b[0m\u001b[0m\n\u001b[1;32m     16\u001b[0m \u001b[0;34m\u001b[0m\u001b[0m\n\u001b[0;32m---> 17\u001b[0;31m \u001b[0mout\u001b[0m \u001b[0;34m=\u001b[0m \u001b[0mjoin_lists\u001b[0m\u001b[0;34m(\u001b[0m\u001b[0mpre_clean\u001b[0m\u001b[0;34m,\u001b[0m \u001b[0mcen_clean\u001b[0m\u001b[0;34m,\u001b[0m \u001b[0;34m[\u001b[0m\u001b[0;36m0\u001b[0m\u001b[0;34m,\u001b[0m\u001b[0;36m4\u001b[0m\u001b[0;34m]\u001b[0m\u001b[0;34m,\u001b[0m \u001b[0;34m[\u001b[0m\u001b[0;36m4\u001b[0m\u001b[0;34m,\u001b[0m\u001b[0;36m7\u001b[0m\u001b[0;34m]\u001b[0m\u001b[0;34m,\u001b[0m \u001b[0;34m[\u001b[0m\u001b[0;36m0\u001b[0m\u001b[0;34m,\u001b[0m\u001b[0;36m2\u001b[0m\u001b[0;34m,\u001b[0m\u001b[0;36m3\u001b[0m\u001b[0;34m]\u001b[0m\u001b[0;34m,\u001b[0m \u001b[0;34m[\u001b[0m\u001b[0;36m6\u001b[0m\u001b[0;34m]\u001b[0m\u001b[0;34m)\u001b[0m\u001b[0;34m\u001b[0m\u001b[0m\n\u001b[0m\u001b[1;32m     18\u001b[0m \u001b[0;31m#Explaination of the code :\u001b[0m\u001b[0;34m\u001b[0m\u001b[0;34m\u001b[0m\u001b[0m\n\u001b[1;32m     19\u001b[0m \u001b[0;31m#Read preexisting.csv into preexisting\u001b[0m\u001b[0;34m\u001b[0m\u001b[0;34m\u001b[0m\u001b[0m\n",
      "\u001b[0;32m/home/muftima/notebooks/hds5210-week02/midterm/joiner.ipynb\u001b[0m in \u001b[0;36mjoin_lists\u001b[0;34m(left, right, left_key, right_key, left_output, right_output)\u001b[0m\n",
      "\u001b[0;31mIndexError\u001b[0m: list index out of range"
     ]
    }
   ],
   "source": [
    "import jupyterimporter\n",
    "from csvlist import CsvList\n",
    "from pivot import pivot_columns\n",
    "from joiner import join_lists\n",
    "preexisting = CsvList('/midterm/preexisting.csv')\n",
    "census = CsvList('/midterm/census.csv')\n",
    "\n",
    "### CLEANUP CODE STARTS\n",
    "pre = pivot_columns([preexisting.header] + preexisting.data, list(range(2,37)))\n",
    "cen = pivot_columns([census.header] + census.data, list(range(5,12)))\n",
    "\n",
    "pre_clean = [pre[0] + ['Year']] + [(r + [r[2].split(',')[1].strip()]) for r in pre[1:]]\n",
    "cen_clean = [cen[0] + ['Year']] + [(r + [r[5][-4:]]) for r in cen[1:]]\n",
    "### CLEANUP CODE ENDS\n",
    "\n",
    "\n",
    "out = join_lists(pre_clean, cen_clean, [0,4], [4,7], [0,2,3], [6])\n",
    "#Explaination of the code :\n",
    "#Read preexisting.csv into preexisting\n",
    "preexisting = CsvList('/midterm/preexisting.csv')\n",
    "#Read census.csv into census\n",
    "census = CsvList('/midterm/census.csv')\n",
    "\n",
    "### CLEANUP CODE STARTS\n",
    "#This creates pivot based on date. preexisting.header gets the header row, preexisting.data gets all the data rows, '+' appends the latter list to the former.\n",
    "#this combined list is input to the pivot_columns function. list(range(2,37)) generates a list [2,3,..,36] which also goes as input to pivot_columns. \n",
    "#This list has information split by date in different columns(2 to 36), after the function is applied it each date data goes into a new row.   \n",
    "pre = pivot_columns([preexisting.header] + preexisting.data, list(range(2,37)))\n",
    "\n",
    "#Similarly for census\n",
    "cen = pivot_columns([census.header] + census.data, list(range(5,12)))\n",
    "\n",
    "#This appends the header row with a new column 'Year', and extracts the year info from another column of respective data row and appends to it.\n",
    "#For example for a row having data 'Enrolled Through November 30, 2013' it extracts '2013' and appends it to that particular row\n",
    "pre_clean = [pre[0] + ['Year']] + [(r + [r[2].split(',')[1].strip()]) for r in pre[1:]]\n",
    "\n",
    "#Similarly for census data\n",
    "cen_clean = [cen[0] + ['Year']] + [(r + [r[5][-4:]]) for r in cen[1:]]\n",
    "### CLEANUP CODE ENDS\n",
    "\n",
    "#This joins the pre_clean and cen_clean data on given columns and includes the other given columns in out list\n",
    "out = join_lists(pre_clean, cen_clean, [0,4], [4,7], [0,2,3], [6])"
   ]
  },
  {
   "cell_type": "code",
   "execution_count": null,
   "metadata": {
    "collapsed": true
   },
   "outputs": [],
   "source": [
    "\n",
    "pre_clean = [pre[0] + ['Year']] + [(r + [r[2].split(',')[1].strip()]) for r in pre[1:2]]\n",
    "\n",
    "\n",
    "([pre[0] + ['Year']]) # adding year column\n",
    "pre[0] = ['State', 'Federally/State Administered', 'Column', 'Value'] \n",
    "+\n",
    "[Year]\n",
    "=\n",
    "['State', 'Federally/State Administered', 'Column', 'Value', 'Year']\n",
    "\n",
    "(r)\n",
    "['State', 'Federally/State Administered', 'Enrolled Through January 31, 2014  ', 'Enrolled Through January 31, 2014  ']\n",
    "\n",
    "(r[2].split(',')[1]) \n",
    "(r[2])\n",
    "'Enrolled Through January 31, 2014' \n",
    "(r[2].split(','))\n",
    "['Enrolled Through January 31', ' 2014']\n",
    "(r[2].split(',')[1])\n",
    "' 2014'\n",
    "(r[2].split(',')[1].strip())\n",
    "'2014'\n",
    "\n",
    "([(r + [r[2].split(',')[1].strip()]) # adding year value\n",
    "[['State', 'Federally/State Administered', 'Column', 'Value', 'Year'],\n",
    "\n",
    "\n",
    "# This process add new column 'Year' and does string manuplation to extract the year value and add at the end of the column.  In addition, it iterate every row to do the same process\n",
    "[pre[0] + ['Year']] + [(r + [r[2].split(',')[1].strip()]) for r in pre[1:2]]"
   ]
  },
  {
   "cell_type": "code",
   "execution_count": 9,
   "metadata": {
    "collapsed": false
   },
   "outputs": [
    {
     "name": "stdout",
     "output_type": "stream",
     "text": [
      "[master 91bb768] Submitting my midterm!!\n",
      " 1 file changed, 316 insertions(+)\n",
      " create mode 100644 midterm/midterm_mufti.ipynb\n"
     ]
    },
    {
     "name": "stderr",
     "output_type": "stream",
     "text": [
      "warning: push.default is unset; its implicit value has changed in\n",
      "Git 2.0 from 'matching' to 'simple'. To squelch this message\n",
      "and maintain the traditional behavior, use:\n",
      "\n",
      "  git config --global push.default matching\n",
      "\n",
      "To squelch this message and adopt the new behavior now, use:\n",
      "\n",
      "  git config --global push.default simple\n",
      "\n",
      "When push.default is set to 'matching', git will push local branches\n",
      "to the remote branches that already exist with the same name.\n",
      "\n",
      "Since Git 2.0, Git defaults to the more conservative 'simple'\n",
      "behavior, which only pushes the current branch to the corresponding\n",
      "remote branch that 'git pull' uses to update the current branch.\n",
      "\n",
      "See 'git help config' and search for 'push.default' for further information.\n",
      "(the 'simple' mode was introduced in Git 1.7.11. Use the similar mode\n",
      "'current' instead of 'simple' if you sometimes use older versions of Git)\n",
      "\n",
      "To git@github.com:muftima/hds5210-week02.git\n",
      "   1565e8a..91bb768  master -> master\n"
     ]
    }
   ],
   "source": [
    "%%bash\n",
    "git add csvlist.ipynb\n",
    "git add joiner.ipynb\n",
    "git add pivot.ipynb\n",
    "git add midterm_mufti.ipynb\n",
    "git commit -a -m \"Submitting my midterm!!\"\n",
    "git push"
   ]
  },
  {
   "cell_type": "code",
   "execution_count": null,
   "metadata": {
    "collapsed": true
   },
   "outputs": [],
   "source": []
  }
 ],
 "metadata": {
  "kernelspec": {
   "display_name": "Python 3",
   "language": "python",
   "name": "python3"
  },
  "language_info": {
   "codemirror_mode": {
    "name": "ipython",
    "version": 3
   },
   "file_extension": ".py",
   "mimetype": "text/x-python",
   "name": "python",
   "nbconvert_exporter": "python",
   "pygments_lexer": "ipython3",
   "version": "3.4.3"
  }
 },
 "nbformat": 4,
 "nbformat_minor": 0
}
