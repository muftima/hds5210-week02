{
 "cells": [
  {
   "cell_type": "code",
   "execution_count": null,
   "metadata": {
    "collapsed": false
   },
   "outputs": [],
   "source": [
    "import csv\n",
    "\n",
    "class CsvList:\n",
    "    def __init__(self,file):\n",
    "        \"\"\"\n",
    "        The initializer for CsvList takes a filename as it's parameter.\n",
    "        It will open the file and read the contents into two variables:\n",
    "        * self.header = A list that contains the column headers\n",
    "        * self.data = A list that contains one entry for each row in the file, \n",
    "                      where each of those entries is a list in itself\n",
    "                      that has one entry per column.\n",
    "        \n",
    "        Example:\n",
    "        self.header might look like:\n",
    "            ['Last Name', 'First Name']\n",
    "            \n",
    "        self.data might look like:\n",
    "            [['Boal', 'Paul'], ['Westhus', 'Eric'], ['Lester-Boal', 'Ada']]\n",
    "        \"\"\"\n",
    "        \n",
    "      # Fill in your code here\n",
    "       \n",
    "        \n",
    "        self.data = []\n",
    "        self.header = []\n",
    "        with open(file) as d:\n",
    "            reader = csv.reader(d)\n",
    "            d_reader = csv.DictReader(d)\n",
    "            self.header = d_reader.fieldnames\n",
    "            for row in reader:\n",
    "                self.data.append(row)\n"
   ]
  },
  {
   "cell_type": "code",
   "execution_count": null,
   "metadata": {
    "collapsed": true
   },
   "outputs": [],
   "source": []
  },
  {
   "cell_type": "code",
   "execution_count": null,
   "metadata": {
    "collapsed": true
   },
   "outputs": [],
   "source": []
  },
  {
   "cell_type": "code",
   "execution_count": null,
   "metadata": {
    "collapsed": true
   },
   "outputs": [],
   "source": []
  }
 ],
 "metadata": {
  "kernelspec": {
   "display_name": "Python 3",
   "language": "python",
   "name": "python3"
  },
  "language_info": {
   "codemirror_mode": {
    "name": "ipython",
    "version": 3
   },
   "file_extension": ".py",
   "mimetype": "text/x-python",
   "name": "python",
   "nbconvert_exporter": "python",
   "pygments_lexer": "ipython3",
   "version": "3.4.3"
  }
 },
 "nbformat": 4,
 "nbformat_minor": 0
}
