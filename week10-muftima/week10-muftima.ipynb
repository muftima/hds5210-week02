{
 "cells": [
  {
   "cell_type": "code",
   "execution_count": null,
   "metadata": {
    "collapsed": false
   },
   "outputs": [],
   "source": [
    "Week 10 - Algorithms\n",
    "For this week's homework, we're only going to solve one problem, but we're going to design a couple of different solutions to it: Reverse Pivot\n",
    "Remember back to the midterm when we did the pivot, here we're going to design algorithms for the reverse of that operation. In Excel terms, this is usually the way a pivot table works.\n",
    "The objective is to take a rectangular list L (rows and columns) and unpivot the last two columns, assuming that the second to last column should be the output column header name, and the last column will be the row in the output. Any missing values should be replaec with None.\n",
    "For example. The input:\n",
    "[[ 'Name',   'Label',  'Value' ],\n",
    " [ 'Boal',   'Week 1',     10  ],\n",
    " [ 'Boal',   'Week 2',     11  ],\n",
    " [ 'Boal',   'Week 3',      7  ],\n",
    " [ 'Westus', 'Week 1',     12  ],\n",
    " [ 'Westus', 'Week 3',      4  ],\n",
    " [ 'Westus', 'Week 4',      9  ]]\n",
    "Should become:\n",
    "[[ 'Name',    'Week 1', 'Week 2', 'Week 3', 'Week 4' ],\n",
    " [ 'Boal',         10,       11,        7,     None  ],\n",
    " [ 'Westus',       12,     None,        4,        9  ]]\n"
   ]
  },
  {
   "cell_type": "code",
   "execution_count": null,
   "metadata": {
    "collapsed": false
   },
   "outputs": [],
   "source": [
    "#1 \n",
    "In [3]:\n",
    "\n",
    "original = [[ 'Name',   'Label',  'Value' ],\n",
    " [ 'Boal',   'Week 1',     10  ],\n",
    " [ 'Boal',   'Week 2',     11  ],\n",
    " [ 'Boal',   'Week 3',      7  ],\n",
    " [ 'Westus', 'Week 1',     12  ],\n",
    " [ 'Westus', 'Week 3',      4  ],\n",
    " [ 'Westus', 'Week 4',      9  ]]\n",
    "​\n",
    "expected = [[ 'Name',    'Week 1', 'Week 2', 'Week 3', 'Week 4' ],\n",
    " [ 'Boal',         10,       11,        7,     None  ],\n",
    " [ 'Westus',       12,     None,        4,        9  ]]\n",
    "In [6]:\n",
    "\n",
    "new = [[\"Name\"]]\n",
    "#initialize new as an empty list \n",
    "headers = original[0]\n",
    "#Take first item in orginal and assign to header \n",
    "data = original[1:]\n",
    "#Take the rest list in original and assign to data \n",
    " #for datum in data \n",
    "    #loop through name , label and value .\n",
    "    #Append new to label\n",
    "    #append new to name \n",
    "    #print (new )\n",
    "​\n",
    "for datum in data:\n",
    "    name = datum[0]\n",
    "    label = datum[1]\n",
    "    value = datum[2]\n",
    "    \n",
    "    new[0].append(label)\n",
    "    new.append(name)\n",
    "    print(new)\n",
    "    \n",
    "\n"
   ]
  },
  {
   "cell_type": "code",
   "execution_count": 1,
   "metadata": {
    "collapsed": true
   },
   "outputs": [],
   "source": [
    "#2\n",
    "# save original data only\n",
    "# initalize first 'label' list as name\n",
    "\n",
    "# loop though data\n",
    "   # append every 'weeks' on 'lebel' list\n",
    "# assign unique value from the 'label' as new_header\n",
    "# remove 'Name' value to extract the weeks only\n",
    "# Initialize 'values', 'weeks2' and 'names' as empty lists and 'dat' as empty dictionary\n",
    "\n",
    "# loop through datas\n",
    "   # assign append each 'labels', 'values', and 'weeks2' in the lists\n",
    "   # if we see the different name\n",
    "       #  create new list ex) x1, x2 ...\n",
    "       # create empty list for the dictionary\n",
    "\n",
    "   # append week for each name\n",
    "   # append value in to the list\n",
    "   # update the 'names' list\n",
    "\n",
    "# loop through names\n",
    "   # loop through unique weeks\n",
    "       # if week in weeks is not in the week in particular person's weeks list, save the index\n",
    "   # upating list for every name and make a space for 'none' value in saved index value\n",
    "\n",
    "# finally append every lists created, appended, and modified"
   ]
  },
  {
   "cell_type": "code",
   "execution_count": 2,
   "metadata": {
    "collapsed": false
   },
   "outputs": [
    {
     "ename": "SyntaxError",
     "evalue": "invalid syntax (<ipython-input-2-17fb75acbc93>, line 1)",
     "output_type": "error",
     "traceback": [
      "\u001b[0;36m  File \u001b[0;32m\"<ipython-input-2-17fb75acbc93>\"\u001b[0;36m, line \u001b[0;32m1\u001b[0m\n\u001b[0;31m    3 - Compare your algorithms\u001b[0m\n\u001b[0m                   ^\u001b[0m\n\u001b[0;31mSyntaxError\u001b[0m\u001b[0;31m:\u001b[0m invalid syntax\n"
     ]
    }
   ],
   "source": [
    "#3 - Compare your algorithms\n",
    "#Given how each algorithm works, can you make a prediction about which one you think will take longer to run? Explain your thinking with references to line numbers from above."
   ]
  },
  {
   "cell_type": "code",
   "execution_count": null,
   "metadata": {
    "collapsed": true
   },
   "outputs": [],
   "source": [
    "# 3 \n",
    "#We will import time and calculate the time for Algorithm.\n",
    "#B wil take more time because we have to loop "
   ]
  }
 ],
 "metadata": {
  "kernelspec": {
   "display_name": "Python 3",
   "language": "python",
   "name": "python3"
  },
  "language_info": {
   "codemirror_mode": {
    "name": "ipython",
    "version": 3
   },
   "file_extension": ".py",
   "mimetype": "text/x-python",
   "name": "python",
   "nbconvert_exporter": "python",
   "pygments_lexer": "ipython3",
   "version": "3.4.3"
  }
 },
 "nbformat": 4,
 "nbformat_minor": 0
}
