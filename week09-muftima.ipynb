{
 "cells": [
  {
   "cell_type": "markdown",
   "metadata": {},
   "source": [
    "# 1Json for hospital information"
   ]
  },
  {
   "cell_type": "code",
   "execution_count": 1,
   "metadata": {
    "collapsed": false
   },
   "outputs": [
    {
     "name": "stdout",
     "output_type": "stream",
     "text": [
      "<class 'str'>\n",
      "\n",
      "[[\"BJC\", \"BJH\", \"St. Louis\", 1432],\n",
      " [\"BJC\", \"MoBap\", \"Creve Coeur\", 1107],\n",
      " [\"SSM\", \"SLUH\", \"St. Louis\", 965],\n",
      " [\"Mercy\", \"Mercy STL\", \"Creve Coeur\", 983]]\n",
      "\n",
      "<class 'list'>\n"
     ]
    }
   ],
   "source": [
    "import json\n",
    "hospitals = \"\"\"\n",
    "[[\"BJC\", \"BJH\", \"St. Louis\", 1432],\n",
    " [\"BJC\", \"MoBap\", \"Creve Coeur\", 1107],\n",
    " [\"SSM\", \"SLUH\", \"St. Louis\", 965],\n",
    " [\"Mercy\", \"Mercy STL\", \"Creve Coeur\", 983]]\n",
    "\"\"\"\n",
    "print(type(hospitals))\n",
    "print(hospitals)\n",
    "hospitalsList = json.loads(hospitals)\n",
    "print(type(hospitalsList))\n",
    "\n",
    "\n"
   ]
  },
  {
   "cell_type": "code",
   "execution_count": 2,
   "metadata": {
    "collapsed": false
   },
   "outputs": [
    {
     "ename": "TypeError",
     "evalue": "string indices must be integers",
     "output_type": "error",
     "traceback": [
      "\u001b[0;31m---------------------------------------------------------------------------\u001b[0m",
      "\u001b[0;31mTypeError\u001b[0m                                 Traceback (most recent call last)",
      "\u001b[0;32m<ipython-input-2-dbc1a9d726d5>\u001b[0m in \u001b[0;36m<module>\u001b[0;34m()\u001b[0m\n\u001b[1;32m      1\u001b[0m \u001b[0mtotal_bed\u001b[0m \u001b[0;34m=\u001b[0m \u001b[0;36m0\u001b[0m\u001b[0;34m\u001b[0m\u001b[0m\n\u001b[1;32m      2\u001b[0m \u001b[0;32mfor\u001b[0m \u001b[0mitem\u001b[0m \u001b[0;32min\u001b[0m \u001b[0mhospitals\u001b[0m\u001b[0;34m:\u001b[0m\u001b[0;34m\u001b[0m\u001b[0m\n\u001b[0;32m----> 3\u001b[0;31m    \u001b[0mtotal_bed\u001b[0m \u001b[0;34m+=\u001b[0m \u001b[0mitem\u001b[0m\u001b[0;34m[\u001b[0m\u001b[0;34m'beds'\u001b[0m\u001b[0;34m]\u001b[0m\u001b[0;34m\u001b[0m\u001b[0m\n\u001b[0m\u001b[1;32m      4\u001b[0m \u001b[0;34m\u001b[0m\u001b[0m\n\u001b[1;32m      5\u001b[0m \u001b[0mcity_name\u001b[0m \u001b[0;34m=\u001b[0m \u001b[0;34m[\u001b[0m\u001b[0;34m]\u001b[0m\u001b[0;34m\u001b[0m\u001b[0m\n",
      "\u001b[0;31mTypeError\u001b[0m: string indices must be integers"
     ]
    }
   ],
   "source": [
    "total_bed = 0\n",
    "for item in hospitals:\n",
    "   total_bed += item['beds']\n",
    "\n",
    "city_name = [] \n",
    "final_result = {}\n",
    "for item in hospitals: \n",
    "   \n",
    "   if item['City'] not in city_name: \n",
    "       city_name.append(item['City'])\n",
    "       dict_result[item['City']] = {\"Percent of Beds\" : round(item['Beds'] / total_bed, 3) } \n",
    "       final_result[item['City']].update({\"Total Beds\" : item['Beds'] })\n",
    "   else:\n",
    "       dict_result[item['City']]['Total Beds'] += item['Beds'] \n",
    "       final_result[item['City']].update({\"Percent of Beds\" : round(final_result[item['City']]['Total Beds'] / total_bed, 3)})\n",
    "       \n",
    "final_result\n",
    "\n",
    "\n"
   ]
  },
  {
   "cell_type": "markdown",
   "metadata": {},
   "source": [
    "# 3 - Drug XML"
   ]
  },
  {
   "cell_type": "code",
   "execution_count": 3,
   "metadata": {
    "collapsed": false
   },
   "outputs": [
    {
     "name": "stdout",
     "output_type": "stream",
     "text": [
      "<class 'str'>\n"
     ]
    }
   ],
   "source": [
    "import xml.etree.ElementTree as xml\n",
    "drugs = \"\"\"<?xml version=\"1.0\"?>\n",
    "<drugs>\n",
    " <drug Name=\"Aspirin\" Dosage =\"100\" Units=\"mg\" Cost= \"0.10\">320</drug>\n",
    " <drug Name=\"Aspirin\" Dosage =\"200\" Units=\"mg\" Cost= \"0.15\">211</drug>\n",
    " <drug Name=\"Digoxin\" Dosage =\"10\" Units=\"mL\" Cost= \"1.22\">19</drug>\n",
    " <drug Name=\"Digoxin\" Dosage =\"20\" Units=\"mL\" Cost= \"2.01\">27</drug>\n",
    "</drugs>\n",
    "\"\"\"\n",
    "print(type(drugs))\n",
    "drug_xm=xml.fromstring(drugs)\n"
   ]
  },
  {
   "cell_type": "code",
   "execution_count": null,
   "metadata": {
    "collapsed": false
   },
   "outputs": [],
   "source": [
    "drug_name = []\n",
    "dict_final = {}\n",
    "\n",
    "for child in drugs:\n",
    "   \n",
    "     if child.attribute['name'] not in drug_name: \n",
    "       drug_name.append(child.attribute['name'])\n",
    "       dict_result[child.attribute['name']] = round(float(child.find(\"Cost\").text) * float(child.find(\"Count\").text) , 2)\n",
    "     else:\n",
    "       dict_final[child.attribute['name']] += round(float(child.find(\"Cost\").text) * float(child.find(\"Count\").text) , 2)\n",
    "       \n",
    "dict_final "
   ]
  },
  {
   "cell_type": "code",
   "execution_count": null,
   "metadata": {
    "collapsed": true
   },
   "outputs": [],
   "source": []
  }
 ],
 "metadata": {
  "kernelspec": {
   "display_name": "Python 3",
   "language": "python",
   "name": "python3"
  },
  "language_info": {
   "codemirror_mode": {
    "name": "ipython",
    "version": 3
   },
   "file_extension": ".py",
   "mimetype": "text/x-python",
   "name": "python",
   "nbconvert_exporter": "python",
   "pygments_lexer": "ipython3",
   "version": "3.4.3"
  }
 },
 "nbformat": 4,
 "nbformat_minor": 0
}
