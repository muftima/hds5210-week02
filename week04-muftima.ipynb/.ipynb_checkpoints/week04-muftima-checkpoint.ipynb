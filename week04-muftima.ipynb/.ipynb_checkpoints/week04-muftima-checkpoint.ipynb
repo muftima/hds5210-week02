{
 "cells": [
  {
   "cell_type": "code",
   "execution_count": 1,
   "metadata": {
    "collapsed": true
   },
   "outputs": [],
   "source": [
    "#1.NAND\n",
    "def NAND(a,b):\n",
    "    \"\"\"(bool,bool)->bool\n",
    "    Return the NAND OR of the two inputs.For NAND to return True either a or b must be true but not both.\n",
    "    \n",
    "    NANd(True, True)\n",
    "    False\n",
    "    \n",
    "    NAND(True, False)\n",
    "    True\n",
    "    \n",
    "    NAND(False, True)\n",
    "    True\n",
    "    \n",
    "    NAND(False,False)\n",
    "    True\"\"\"\n",
    "    return not(a and b)"
   ]
  },
  {
   "cell_type": "code",
   "execution_count": 2,
   "metadata": {
    "collapsed": false
   },
   "outputs": [
    {
     "data": {
      "text/plain": [
       "False"
      ]
     },
     "execution_count": 2,
     "metadata": {},
     "output_type": "execute_result"
    }
   ],
   "source": [
    "NAND(True, True)"
   ]
  },
  {
   "cell_type": "code",
   "execution_count": 3,
   "metadata": {
    "collapsed": false
   },
   "outputs": [
    {
     "data": {
      "text/plain": [
       "True"
      ]
     },
     "execution_count": 3,
     "metadata": {},
     "output_type": "execute_result"
    }
   ],
   "source": [
    "NAND(True, False)"
   ]
  },
  {
   "cell_type": "code",
   "execution_count": 4,
   "metadata": {
    "collapsed": false
   },
   "outputs": [
    {
     "data": {
      "text/plain": [
       "True"
      ]
     },
     "execution_count": 4,
     "metadata": {},
     "output_type": "execute_result"
    }
   ],
   "source": [
    "NAND(False,True)"
   ]
  },
  {
   "cell_type": "code",
   "execution_count": 5,
   "metadata": {
    "collapsed": false
   },
   "outputs": [
    {
     "data": {
      "text/plain": [
       "True"
      ]
     },
     "execution_count": 5,
     "metadata": {},
     "output_type": "execute_result"
    }
   ],
   "source": [
    "NAND(False, False)"
   ]
  },
  {
   "cell_type": "code",
   "execution_count": 7,
   "metadata": {
    "collapsed": false
   },
   "outputs": [
    {
     "name": "stdout",
     "output_type": "stream",
     "text": [
      "2 items had no tests:\n",
      "    __main__\n",
      "    __main__.NAND\n",
      "0 tests in 2 items.\n",
      "0 passed and 0 failed.\n",
      "Test passed.\n"
     ]
    },
    {
     "data": {
      "text/plain": [
       "TestResults(failed=0, attempted=0)"
      ]
     },
     "execution_count": 7,
     "metadata": {},
     "output_type": "execute_result"
    }
   ],
   "source": [
    "import doctest\n",
    "doctest.testmod(verbose=True)"
   ]
  },
  {
   "cell_type": "code",
   "execution_count": 8,
   "metadata": {
    "collapsed": true
   },
   "outputs": [],
   "source": [
    "# 2-LACE score"
   ]
  },
  {
   "cell_type": "code",
   "execution_count": 49,
   "metadata": {
    "collapsed": true
   },
   "outputs": [],
   "source": [
    "def LACE (length_of_stay,acute_flag, charlson, ed_visit):\n",
    "    \"\"\"(int, bool, int, int) ->int\n",
    "    This function uses the logic from http://www.hindawi.com/journals/bmri/2015/169870/tab1/to compute the LACE score for this patient\n",
    "     if  lenght_of_stay<1: \n",
    "      returnpt=0\n",
    "     if    lenght_of_stay=1:\n",
    "     returnpt=1\n",
    "      if   lenght_of_stay=2:  \n",
    "      return pt= 2\n",
    "     if    lenght_of_stay=3:   \n",
    "     return pt=  3\n",
    "     if    4<=length_of_stay>=6:\n",
    "     return pt= 4\n",
    "     if    7<=length_of_stay>=13: \n",
    "     return    pt= 5\n",
    "     if    lenght_of_stay≥14:    \n",
    "     return    pt=7\n",
    "      if acute_flag is True and type(acute_flag) is bool: pt8=3\n",
    "      if charlson==0:                          pt10=0\n",
    "    if charlson==1:                          pt11=1\n",
    "    if charlson==2:                          pt12=2\n",
    "    if charlson==3:                          pt13=3 \n",
    "    if charlson>=4:                           pt14=5 \n",
    "      if ed_visit==0:                         pt15=0\n",
    "    if ed_visit==1:                         pt16=1\n",
    "    if ed_visit==2:                         pt17=2\n",
    "    if ed_visit==3:                         pt18=3\n",
    "    if ed_visit>=4:                         pt19= 4 \"\"\"\n",
    "    return length_of_stay+acute_flag+charlson+ed_visit\n",
    "    \n",
    "  "
   ]
  },
  {
   "cell_type": "code",
   "execution_count": 50,
   "metadata": {
    "collapsed": false
   },
   "outputs": [
    {
     "data": {
      "text/plain": [
       "5"
      ]
     },
     "execution_count": 50,
     "metadata": {},
     "output_type": "execute_result"
    }
   ],
   "source": [
    "LACE (4, False, 1, 0)"
   ]
  },
  {
   "cell_type": "code",
   "execution_count": 51,
   "metadata": {
    "collapsed": false
   },
   "outputs": [
    {
     "data": {
      "text/plain": [
       "16"
      ]
     },
     "execution_count": 51,
     "metadata": {},
     "output_type": "execute_result"
    }
   ],
   "source": [
    "LACE(4,True, 4, 7)"
   ]
  },
  {
   "cell_type": "code",
   "execution_count": 52,
   "metadata": {
    "collapsed": false
   },
   "outputs": [
    {
     "data": {
      "text/plain": [
       "17"
      ]
     },
     "execution_count": 52,
     "metadata": {},
     "output_type": "execute_result"
    }
   ],
   "source": [
    "LACE( 7,True, 5, 4)"
   ]
  },
  {
   "cell_type": "code",
   "execution_count": 11,
   "metadata": {
    "collapsed": false
   },
   "outputs": [
    {
     "data": {
      "text/plain": [
       "True"
      ]
     },
     "execution_count": 11,
     "metadata": {},
     "output_type": "execute_result"
    }
   ],
   "source": [
    "assign_care_coordinator('None', 0, 4, False,1)"
   ]
  },
  {
   "cell_type": "code",
   "execution_count": 12,
   "metadata": {
    "collapsed": false
   },
   "outputs": [
    {
     "data": {
      "text/plain": [
       "True"
      ]
     },
     "execution_count": 12,
     "metadata": {},
     "output_type": "execute_result"
    }
   ],
   "source": [
    "assign_care_coordinator('CHF', 0, 4, False,1)"
   ]
  },
  {
   "cell_type": "code",
   "execution_count": 13,
   "metadata": {
    "collapsed": false
   },
   "outputs": [
    {
     "data": {
      "text/plain": [
       "True"
      ]
     },
     "execution_count": 13,
     "metadata": {},
     "output_type": "execute_result"
    }
   ],
   "source": [
    "assign_care_coordinator('COPD', 0, 4, False,1)"
   ]
  },
  {
   "cell_type": "code",
   "execution_count": 21,
   "metadata": {
    "collapsed": false
   },
   "outputs": [
    {
     "data": {
      "text/plain": [
       "'False'"
      ]
     },
     "execution_count": 21,
     "metadata": {},
     "output_type": "execute_result"
    }
   ],
   "source": [
    "assign_care_coordinator('None', 7, 4, True,4)"
   ]
  },
  {
   "cell_type": "code",
   "execution_count": null,
   "metadata": {
    "collapsed": true
   },
   "outputs": [],
   "source": [
    "#2  LACe "
   ]
  },
  {
   "cell_type": "code",
   "execution_count": 41,
   "metadata": {
    "collapsed": false
   },
   "outputs": [],
   "source": [
    "def LACEe(length_of_stay,acute_flag, charlson, ed_visit):\n",
    "\n",
    "    pt1=0 \n",
    "    pt2=0\n",
    "    pt3=0\n",
    "    pt4=0 \n",
    "    pt5=0\n",
    "    pt6=0\n",
    "    pt7=0\n",
    "    pt8=0\n",
    "    pt10=0\n",
    "    pt11=0\n",
    "    pt12=0\n",
    "    pt13=0\n",
    "    pt14=0\n",
    "    pt15=0\n",
    "    pt16=0\n",
    "    pt17=0\n",
    "    pt18=0\n",
    "    pt19=0\n",
    "    if length_of_stay<1:                             pt1=0\n",
    "    if length_of_stay==1:                            pt2=1\n",
    "    if length_of_stay==2:                            pt3=2\n",
    "    if length_of_stay==3:                            pt4=3\n",
    "    if 4<=length_of_stay>=6:                         pt5=4 \n",
    "    if 7<=length_of_stay>=13:                        pt6=5\n",
    "    if length_of_stay >=17:                          pt7=7\n",
    "    if acute_flag is True and type(acute_flag) is bool: pt8=3\n",
    "    if charlson==0:                          pt10=0\n",
    "    if charlson==1:                          pt11=1\n",
    "    if charlson==2:                          pt12=2\n",
    "    if charlson==3:                          pt13=3 \n",
    "    if charlson>=4:                           pt14=5    \n",
    "    if ed_visit==0:                         pt15=0\n",
    "    if ed_visit==1:                         pt16=1\n",
    "    if ed_visit==2:                         pt17=2\n",
    "    if ed_visit==3:                         pt18=3\n",
    "    if ed_visit>=4:                         pt19= 4 \n",
    "    \n",
    "    \n",
    "    score= pt1+pt2+pt3+pt4+pt5+pt6+pt7+pt8+pt10+pt11+pt12+pt13+pt14+pt15+pt16+pt17+pt18+pt19\n",
    "    return float(score)"
   ]
  },
  {
   "cell_type": "code",
   "execution_count": 42,
   "metadata": {
    "collapsed": false
   },
   "outputs": [
    {
     "data": {
      "text/plain": [
       "1.0"
      ]
     },
     "execution_count": 42,
     "metadata": {},
     "output_type": "execute_result"
    }
   ],
   "source": [
    "LACEe (4, False, 1, 0)"
   ]
  },
  {
   "cell_type": "code",
   "execution_count": 43,
   "metadata": {
    "collapsed": false
   },
   "outputs": [
    {
     "data": {
      "text/plain": [
       "12.0"
      ]
     },
     "execution_count": 43,
     "metadata": {},
     "output_type": "execute_result"
    }
   ],
   "source": [
    "LACEe(4,True, 4, 7)"
   ]
  },
  {
   "cell_type": "code",
   "execution_count": 44,
   "metadata": {
    "collapsed": false
   },
   "outputs": [
    {
     "data": {
      "text/plain": [
       "16.0"
      ]
     },
     "execution_count": 44,
     "metadata": {},
     "output_type": "execute_result"
    }
   ],
   "source": [
    "LACEe( 7,True, 5, 4)"
   ]
  },
  {
   "cell_type": "code",
   "execution_count": null,
   "metadata": {
    "collapsed": true
   },
   "outputs": [],
   "source": []
  }
 ],
 "metadata": {
  "kernelspec": {
   "display_name": "Python 3",
   "language": "python",
   "name": "python3"
  },
  "language_info": {
   "codemirror_mode": {
    "name": "ipython",
    "version": 3
   },
   "file_extension": ".py",
   "mimetype": "text/x-python",
   "name": "python",
   "nbconvert_exporter": "python",
   "pygments_lexer": "ipython3",
   "version": "3.4.3"
  }
 },
 "nbformat": 4,
 "nbformat_minor": 0
}
