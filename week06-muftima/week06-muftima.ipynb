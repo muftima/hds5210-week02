{
 "cells": [
  {
   "cell_type": "code",
   "execution_count": 29,
   "metadata": {
    "collapsed": false
   },
   "outputs": [
    {
     "name": "stdout",
     "output_type": "stream",
     "text": [
      "0\n",
      "amoxicillin\n",
      "['amoxicillin', ' digoxin', ' metoprolol tartrate', ' motrin']\n",
      "1\n",
      " digoxin\n",
      "['amoxicillin', 'digoxin', ' metoprolol tartrate', ' motrin']\n",
      "2\n",
      " metoprolol tartrate\n",
      "['amoxicillin', 'digoxin', 'metoprolol tartrate', ' motrin']\n",
      "3\n",
      " motrin\n",
      "['amoxicillin', 'digoxin', 'metoprolol tartrate', 'motrin']\n"
     ]
    }
   ],
   "source": [
    "#1 - Creating a list from a string\n",
    "drugs= 'Amoxicillin, Digoxin, Metoprolol Tartrate, Motrin'\n",
    "d=drugs.lower().split(',')\n",
    "#for item in drugs:\n",
    "#    item=item.strip()\n",
    "#for i in range(len(drug))\n",
    "    #  i=0\n",
    "   \n",
    "for i in range(len(d)):\n",
    "    print(i)\n",
    "    print(d[i])\n",
    "    d[i]=d[i].strip()\n",
    "    print(d)\n",
    " \n"
   ]
  },
  {
   "cell_type": "code",
   "execution_count": null,
   "metadata": {
    "collapsed": true
   },
   "outputs": [],
   "source": []
  },
  {
   "cell_type": "code",
   "execution_count": 21,
   "metadata": {
    "collapsed": false
   },
   "outputs": [
    {
     "name": "stdout",
     "output_type": "stream",
     "text": [
      "[['Digoxin', 170, 'mgc'], ['Digoxin', 280, 'mgc'], ['Digoxin', 500, 'mgc']]\n"
     ]
    }
   ],
   "source": [
    "# Filtering a list\n",
    "allow = []\n",
    "available = [['Digoxin',170,'mgc'],\n",
    "           ['Digoxin',280,'mgc'],\n",
    "           ['Digoxin',500,'mgc'],\n",
    "           ['Digoxin',680,'mgc'],\n",
    "           ['Digoxin',1000,'mgc']]\n",
    "weight = 50\n",
    "doze = 12\n",
    "dose_limit = doze * weight\n",
    "\n",
    "index = 0\n",
    "while available[index][1] < dose_limit:\n",
    "  allow.append(available[index])\n",
    "  index = index + 1\n",
    "\n",
    "print(allow)"
   ]
  },
  {
   "cell_type": "code",
   "execution_count": 30,
   "metadata": {
    "collapsed": false
   },
   "outputs": [
    {
     "ename": "SyntaxError",
     "evalue": "EOL while scanning string literal (<ipython-input-30-43854c3f6cf6>, line 5)",
     "output_type": "error",
     "traceback": [
      "\u001b[0;36m  File \u001b[0;32m\"<ipython-input-30-43854c3f6cf6>\"\u001b[0;36m, line \u001b[0;32m5\u001b[0m\n\u001b[0;31m    print (\"current value of output:'+output)\u001b[0m\n\u001b[0m                                             ^\u001b[0m\n\u001b[0;31mSyntaxError\u001b[0m\u001b[0;31m:\u001b[0m EOL while scanning string literal\n"
     ]
    }
   ],
   "source": [
    "#3 While\n",
    "druglist = ['amoxicillin','dignoxin','metroprolol tartrate','motrin']\n",
    "#len(druglist)\n",
    "#for d in druglist:\n",
    "#print (\"current value of output:'+output)\n",
    "     #  print(\"current item is :\"+d)\n",
    "      # output=output +\",\"+d\n",
    "     #  print(\"output is now:\"output)\n",
    " #      print(\"---\")\n",
    "#\n"
   ]
  },
  {
   "cell_type": "code",
   "execution_count": 4,
   "metadata": {
    "collapsed": false
   },
   "outputs": [
    {
     "data": {
      "text/plain": [
       "['amoxicillin', 'dignoxin', 'motrin']"
      ]
     },
     "execution_count": 4,
     "metadata": {},
     "output_type": "execute_result"
    }
   ],
   "source": [
    "del druglist[2] \n",
    "druglist"
   ]
  },
  {
   "cell_type": "code",
   "execution_count": 5,
   "metadata": {
    "collapsed": false
   },
   "outputs": [
    {
     "data": {
      "text/plain": [
       "['amoxicillin', 'dignoxin']"
      ]
     },
     "execution_count": 5,
     "metadata": {},
     "output_type": "execute_result"
    }
   ],
   "source": [
    "del druglist[2] \n",
    "druglist"
   ]
  },
  {
   "cell_type": "code",
   "execution_count": 6,
   "metadata": {
    "collapsed": false
   },
   "outputs": [
    {
     "data": {
      "text/plain": [
       "'amoxicillin,dignoxin'"
      ]
     },
     "execution_count": 6,
     "metadata": {},
     "output_type": "execute_result"
    }
   ],
   "source": [
    "d=\",\".join(druglist)\n",
    "d"
   ]
  },
  {
   "cell_type": "code",
   "execution_count": 7,
   "metadata": {
    "collapsed": false
   },
   "outputs": [
    {
     "data": {
      "text/plain": [
       "20"
      ]
     },
     "execution_count": 7,
     "metadata": {},
     "output_type": "execute_result"
    }
   ],
   "source": [
    "len(d)"
   ]
  },
  {
   "cell_type": "code",
   "execution_count": 10,
   "metadata": {
    "collapsed": false
   },
   "outputs": [
    {
     "name": "stdout",
     "output_type": "stream",
     "text": [
      "960\n",
      "660\n",
      "264\n"
     ]
    }
   ],
   "source": [
    "#4 Finding the right match \n",
    "patients = [['Paul',80],['Eric',55],['Ada',22]]\n",
    "available = [['Digoxin',170,'mgc'],\n",
    "             ['Digoxin',280,'mgc'],\n",
    "             ['Digoxin',500,'mgc'],\n",
    "             ['Digoxin',680,'mgc'],\n",
    "             ['Digoxin',1000,'mgc']]\n",
    "average_dose = []\n",
    " #average dose allowed 12mcg/kg \n",
    "for dosage in patients:\n",
    "       \n",
    "        for max_wt in dosage:\n",
    "        #item = 'Paul'\n",
    "        #item = '80\n",
    "         if type(max_wt) is int:\n",
    "            max_wt = max_wt* 12\n",
    "            #item = 200\n",
    "            print(max_wt)\n",
    "   "
   ]
  },
  {
   "cell_type": "code",
   "execution_count": 11,
   "metadata": {
    "collapsed": false
   },
   "outputs": [
    {
     "ename": "IndentationError",
     "evalue": "unexpected indent (<ipython-input-11-bd3e1f203435>, line 3)",
     "output_type": "error",
     "traceback": [
      "\u001b[0;36m  File \u001b[0;32m\"<ipython-input-11-bd3e1f203435>\"\u001b[0;36m, line \u001b[0;32m3\u001b[0m\n\u001b[0;31m    if max_wt    >80:\u001b[0m\n\u001b[0m    ^\u001b[0m\n\u001b[0;31mIndentationError\u001b[0m\u001b[0;31m:\u001b[0m unexpected indent\n"
     ]
    }
   ],
   "source": [
    "index=0\n",
    "while available[index][1] < dose_limit:\n",
    "  allow.append(available[index])\n",
    "  index = index + 1\n",
    "\n",
    "\n",
    "\n",
    "\n"
   ]
  },
  {
   "cell_type": "code",
   "execution_count": 31,
   "metadata": {
    "collapsed": false
   },
   "outputs": [
    {
     "name": "stdout",
     "output_type": "stream",
     "text": [
      "[master 42f877b] Adding homework\n",
      " 2 files changed, 322 insertions(+), 15 deletions(-)\n",
      " create mode 100644 week06-muftima/week06-muftima.ipynb\n"
     ]
    },
    {
     "name": "stderr",
     "output_type": "stream",
     "text": [
      "warning: push.default is unset; its implicit value has changed in\n",
      "Git 2.0 from 'matching' to 'simple'. To squelch this message\n",
      "and maintain the traditional behavior, use:\n",
      "\n",
      "  git config --global push.default matching\n",
      "\n",
      "To squelch this message and adopt the new behavior now, use:\n",
      "\n",
      "  git config --global push.default simple\n",
      "\n",
      "When push.default is set to 'matching', git will push local branches\n",
      "to the remote branches that already exist with the same name.\n",
      "\n",
      "Since Git 2.0, Git defaults to the more conservative 'simple'\n",
      "behavior, which only pushes the current branch to the corresponding\n",
      "remote branch that 'git pull' uses to update the current branch.\n",
      "\n",
      "See 'git help config' and search for 'push.default' for further information.\n",
      "(the 'simple' mode was introduced in Git 1.7.11. Use the similar mode\n",
      "'current' instead of 'simple' if you sometimes use older versions of Git)\n",
      "\n",
      "To git@github.com:muftima/hds5210-week02.git\n",
      "   9576fc2..42f877b  master -> master\n"
     ]
    }
   ],
   "source": [
    "%%bash\n",
    "git add week06-muftima.ipynb\n",
    "git commit -a -m \"Adding homework\"\n",
    "git push"
   ]
  },
  {
   "cell_type": "code",
   "execution_count": null,
   "metadata": {
    "collapsed": true
   },
   "outputs": [],
   "source": []
  }
 ],
 "metadata": {
  "kernelspec": {
   "display_name": "Python 3",
   "language": "python",
   "name": "python3"
  },
  "language_info": {
   "codemirror_mode": {
    "name": "ipython",
    "version": 3
   },
   "file_extension": ".py",
   "mimetype": "text/x-python",
   "name": "python",
   "nbconvert_exporter": "python",
   "pygments_lexer": "ipython3",
   "version": "3.4.3"
  }
 },
 "nbformat": 4,
 "nbformat_minor": 0
}
