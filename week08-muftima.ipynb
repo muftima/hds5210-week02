{
 "cells": [
  {
   "cell_type": "code",
   "execution_count": 6,
   "metadata": {
    "collapsed": false
   },
   "outputs": [
    {
     "name": "stdout",
     "output_type": "stream",
     "text": [
      "Counter({19: 3, 21: 2, 32: 1, 3: 1})\n"
     ]
    }
   ],
   "source": [
    "#Part 1 - Count up dictionary values\n",
    "\n",
    "from collections import Counter\n",
    "patient_ages = {\n",
    "   \"E143291\": 19,\n",
    "   \"E872839\": 32,\n",
    "   \"E878198\": 19,\n",
    "   \"E871111\": 21,\n",
    "   \"E143299\": 3,\n",
    "   \"E123332\": 21,\n",
    "   \"E989891\": 19\n",
    "   } \n",
    "values = patient_ages.values()\n",
    "print(Counter(values))"
   ]
  },
  {
   "cell_type": "code",
   "execution_count": 8,
   "metadata": {
    "collapsed": false
   },
   "outputs": [
    {
     "data": {
      "text/plain": [
       "4"
      ]
     },
     "execution_count": 8,
     "metadata": {},
     "output_type": "execute_result"
    }
   ],
   "source": [
    "#Part 2 - Count up how many unique values are in the values\n",
    "patient_ages = {\n",
    "    \"E143291\": 19,\n",
    "    \"E872839\": 32,\n",
    "    \"E878198\": 19,\n",
    "    \"E871111\": 21,\n",
    "    \"E143299\": 3,\n",
    "    \"E123332\": 21,\n",
    "    \"E989891\": 19\n",
    "} \n",
    "age_patients = {}\n",
    "for pat_id, age in patient_ages.items():\n",
    "  \n",
    "\n",
    "    if age not in age_patients:\n",
    "        age_patients[age] = []\n",
    "    \n",
    "    age_patients[age].append(pat_id)\n",
    "   \n",
    "\n",
    "len(age_patients)\n"
   ]
  },
  {
   "cell_type": "code",
   "execution_count": 10,
   "metadata": {
    "collapsed": false
   },
   "outputs": [
    {
     "ename": "SyntaxError",
     "evalue": "invalid syntax (<ipython-input-10-0c4551bf1928>, line 12)",
     "output_type": "error",
     "traceback": [
      "\u001b[0;36m  File \u001b[0;32m\"<ipython-input-10-0c4551bf1928>\"\u001b[0;36m, line \u001b[0;32m12\u001b[0m\n\u001b[0;31m    my_dict = {}\u001b[0m\n\u001b[0m          ^\u001b[0m\n\u001b[0;31mSyntaxError\u001b[0m\u001b[0;31m:\u001b[0m invalid syntax\n"
     ]
    }
   ],
   "source": [
    "#Part 3 - Convert a list to a dictionary\n",
    "test = [['Boal', 'Paul'],\n",
    "        ['Duck', 'Donald'],\n",
    "        ['Duck', 'Daisy'],\n",
    "        ['Boal', 'Ada'],\n",
    "        ['Boal', 'Teddy'],\n",
    "        ['Westhus', 'Eric']]\n",
    "my_dict = {}\n",
    "for i in range(len(test)):\n",
    "    my_dict[list[i]==list.count(list)\n",
    "            \n",
    "my_dict = {}       "
   ]
  },
  {
   "cell_type": "code",
   "execution_count": 11,
   "metadata": {
    "collapsed": false
   },
   "outputs": [
    {
     "name": "stdout",
     "output_type": "stream",
     "text": [
      "[['Boal', 'too long'], ['Boal', 'too short'], ['Jones', 'just right'], ['Ashbury', 'too long']]\n"
     ]
    }
   ],
   "source": [
    "#Part 4 - Join using a dictionary\n",
    "avg_los = {\n",
    "   \"Hemolytic jaundice and perinatal jaundice\" : 2,\n",
    "   \"Medical examination/evaluation\" : 3.2,\n",
    "   \"Liveborn\" : 3.2,\n",
    "   \"Trauma to perineum and vulva\" : 2.1,\n",
    "   \"Normal pregnancy and/or delivery\" : 2,\n",
    "   \"Umbilical cord complication\" : 2.1,\n",
    "   \"Forceps delivery\" : 2.2,\n",
    "   \"Administrative/social admission\" : 4.2,\n",
    "   \"Prolonged pregnancy\" : 2.4,\n",
    "   \"Other complications of pregnancy\" : 2.5\n",
    "}\n",
    "\n",
    "patients = [\n",
    "   ['Boal', 'Medical examination/evaluation', 1.1],\n",
    "   ['Boal', 'Other complications of pregnancy', 3.3],\n",
    "   ['Jones', 'Liveborn', 3.2],\n",
    "   ['Ashbury', 'Forceps delivery', 2.0]\n",
    "]\n",
    "\n",
    "result = []\n",
    "for patient in patients:\n",
    "   info_name = []\n",
    "   info_name.append(patient[0])\n",
    "   if avg_los[patient[1]] < patient[2]:\n",
    "       info_name.append(\"too short\")\n",
    "   elif avg_los[patient[1]] > patient[2]:\n",
    "       info_name.append(\"too long\")\n",
    "   else:\n",
    "       info_name.append(\"just right\")\n",
    "   result.append(info_name)\n",
    "print(result)"
   ]
  },
  {
   "cell_type": "code",
   "execution_count": null,
   "metadata": {
    "collapsed": true
   },
   "outputs": [],
   "source": []
  }
 ],
 "metadata": {
  "kernelspec": {
   "display_name": "Python 3",
   "language": "python",
   "name": "python3"
  },
  "language_info": {
   "codemirror_mode": {
    "name": "ipython",
    "version": 3
   },
   "file_extension": ".py",
   "mimetype": "text/x-python",
   "name": "python",
   "nbconvert_exporter": "python",
   "pygments_lexer": "ipython3",
   "version": "3.4.3"
  }
 },
 "nbformat": 4,
 "nbformat_minor": 0
}
